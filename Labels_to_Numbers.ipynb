{
 "cells": [
  {
   "cell_type": "code",
   "execution_count": 1,
   "metadata": {},
   "outputs": [
    {
     "name": "stderr",
     "output_type": "stream",
     "text": [
      "C:\\Users\\moham\\AppData\\Local\\Temp\\ipykernel_25336\\357822105.py:3: FutureWarning: Passing a negative integer is deprecated in version 1.0 and will not be supported in future version. Instead, use None to not limit the column width.\n",
      "  pd.set_option('display.max_colwidth', -1)\n"
     ]
    },
    {
     "data": {
      "text/html": [
       "<div>\n",
       "<style scoped>\n",
       "    .dataframe tbody tr th:only-of-type {\n",
       "        vertical-align: middle;\n",
       "    }\n",
       "\n",
       "    .dataframe tbody tr th {\n",
       "        vertical-align: top;\n",
       "    }\n",
       "\n",
       "    .dataframe thead th {\n",
       "        text-align: right;\n",
       "    }\n",
       "</style>\n",
       "<table border=\"1\" class=\"dataframe\">\n",
       "  <thead>\n",
       "    <tr style=\"text-align: right;\">\n",
       "      <th></th>\n",
       "      <th>tweet_id</th>\n",
       "      <th>preprocessed_tweet</th>\n",
       "      <th>label</th>\n",
       "    </tr>\n",
       "  </thead>\n",
       "  <tbody>\n",
       "    <tr>\n",
       "      <th>0</th>\n",
       "      <td>104700</td>\n",
       "      <td>if pfizer believes we need a booster shot we need it who knows their product better following the guidance of cdcgov is how i wound up w covid19 and having to shut down my k2 classroom for an entire week i will do whatever it takes to protect my students friends amp family</td>\n",
       "      <td>Vaccine_chatter</td>\n",
       "    </tr>\n",
       "    <tr>\n",
       "      <th>1</th>\n",
       "      <td>102330</td>\n",
       "      <td>covid19 vaccine the country is a mess the government ia a shambles the vaccination may or may not work our borders are still open and still nobody takes it anywhere serious enough</td>\n",
       "      <td>Vaccine_chatter</td>\n",
       "    </tr>\n",
       "    <tr>\n",
       "      <th>2</th>\n",
       "      <td>103848</td>\n",
       "      <td>nihs fauci proceeding as if we will need to deploy a vaccine takes months to prove efficacy wuhan coronavirus cdc anthonymace</td>\n",
       "      <td>Vaccine_chatter</td>\n",
       "    </tr>\n",
       "    <tr>\n",
       "      <th>3</th>\n",
       "      <td>108270</td>\n",
       "      <td>nightmareholic eretserus elonmusk human herd immunity is the only effective vaccine its the only way this virus goes away for good you can only create a vaccine for one strain of this thing at a time id also love to see any evidence of any vaccine working against any previous coronavirus</td>\n",
       "      <td>Vaccine_chatter</td>\n",
       "    </tr>\n",
       "    <tr>\n",
       "      <th>4</th>\n",
       "      <td>104210</td>\n",
       "      <td>it is still unclear when a covid19 vaccine would be approved for use or be distributed banner health will independently validate the safety and efficacy of the vaccine before it is administered 2125</td>\n",
       "      <td>Vaccine_chatter</td>\n",
       "    </tr>\n",
       "  </tbody>\n",
       "</table>\n",
       "</div>"
      ],
      "text/plain": [
       "   tweet_id  \\\n",
       "0  104700     \n",
       "1  102330     \n",
       "2  103848     \n",
       "3  108270     \n",
       "4  104210     \n",
       "\n",
       "                                                                                                                                                                                                                                                                                 preprocessed_tweet  \\\n",
       "0  if pfizer believes we need a booster shot we need it who knows their product better following the guidance of cdcgov is how i wound up w covid19 and having to shut down my k2 classroom for an entire week i will do whatever it takes to protect my students friends amp family                  \n",
       "1  covid19 vaccine the country is a mess the government ia a shambles the vaccination may or may not work our borders are still open and still nobody takes it anywhere serious enough                                                                                                                \n",
       "2  nihs fauci proceeding as if we will need to deploy a vaccine takes months to prove efficacy wuhan coronavirus cdc anthonymace                                                                                                                                                                      \n",
       "3  nightmareholic eretserus elonmusk human herd immunity is the only effective vaccine its the only way this virus goes away for good you can only create a vaccine for one strain of this thing at a time id also love to see any evidence of any vaccine working against any previous coronavirus   \n",
       "4  it is still unclear when a covid19 vaccine would be approved for use or be distributed banner health will independently validate the safety and efficacy of the vaccine before it is administered 2125                                                                                             \n",
       "\n",
       "             label  \n",
       "0  Vaccine_chatter  \n",
       "1  Vaccine_chatter  \n",
       "2  Vaccine_chatter  \n",
       "3  Vaccine_chatter  \n",
       "4  Vaccine_chatter  "
      ]
     },
     "execution_count": 1,
     "metadata": {},
     "output_type": "execute_result"
    }
   ],
   "source": [
    "import pandas as pd\n",
    "data = pd.read_csv('preprocessed_dataset.tsv', sep='\\t', encoding='utf-8')\n",
    "pd.set_option('display.max_colwidth', -1)\n",
    "data.head()"
   ]
  },
  {
   "cell_type": "markdown",
   "metadata": {},
   "source": [
    "Converting labels to numerical values"
   ]
  },
  {
   "cell_type": "code",
   "execution_count": 2,
   "metadata": {},
   "outputs": [],
   "source": [
    "data['label'] = data['label'].map({'Self_reports': 0, 'Vaccine_chatter': 1})"
   ]
  },
  {
   "cell_type": "code",
   "execution_count": 3,
   "metadata": {},
   "outputs": [
    {
     "data": {
      "text/html": [
       "<div>\n",
       "<style scoped>\n",
       "    .dataframe tbody tr th:only-of-type {\n",
       "        vertical-align: middle;\n",
       "    }\n",
       "\n",
       "    .dataframe tbody tr th {\n",
       "        vertical-align: top;\n",
       "    }\n",
       "\n",
       "    .dataframe thead th {\n",
       "        text-align: right;\n",
       "    }\n",
       "</style>\n",
       "<table border=\"1\" class=\"dataframe\">\n",
       "  <thead>\n",
       "    <tr style=\"text-align: right;\">\n",
       "      <th></th>\n",
       "      <th>tweet_id</th>\n",
       "      <th>preprocessed_tweet</th>\n",
       "      <th>label</th>\n",
       "    </tr>\n",
       "  </thead>\n",
       "  <tbody>\n",
       "    <tr>\n",
       "      <th>0</th>\n",
       "      <td>104700</td>\n",
       "      <td>if pfizer believes we need a booster shot we need it who knows their product better following the guidance of cdcgov is how i wound up w covid19 and having to shut down my k2 classroom for an entire week i will do whatever it takes to protect my students friends amp family</td>\n",
       "      <td>1</td>\n",
       "    </tr>\n",
       "    <tr>\n",
       "      <th>1</th>\n",
       "      <td>102330</td>\n",
       "      <td>covid19 vaccine the country is a mess the government ia a shambles the vaccination may or may not work our borders are still open and still nobody takes it anywhere serious enough</td>\n",
       "      <td>1</td>\n",
       "    </tr>\n",
       "    <tr>\n",
       "      <th>2</th>\n",
       "      <td>103848</td>\n",
       "      <td>nihs fauci proceeding as if we will need to deploy a vaccine takes months to prove efficacy wuhan coronavirus cdc anthonymace</td>\n",
       "      <td>1</td>\n",
       "    </tr>\n",
       "    <tr>\n",
       "      <th>3</th>\n",
       "      <td>108270</td>\n",
       "      <td>nightmareholic eretserus elonmusk human herd immunity is the only effective vaccine its the only way this virus goes away for good you can only create a vaccine for one strain of this thing at a time id also love to see any evidence of any vaccine working against any previous coronavirus</td>\n",
       "      <td>1</td>\n",
       "    </tr>\n",
       "    <tr>\n",
       "      <th>4</th>\n",
       "      <td>104210</td>\n",
       "      <td>it is still unclear when a covid19 vaccine would be approved for use or be distributed banner health will independently validate the safety and efficacy of the vaccine before it is administered 2125</td>\n",
       "      <td>1</td>\n",
       "    </tr>\n",
       "  </tbody>\n",
       "</table>\n",
       "</div>"
      ],
      "text/plain": [
       "   tweet_id  \\\n",
       "0  104700     \n",
       "1  102330     \n",
       "2  103848     \n",
       "3  108270     \n",
       "4  104210     \n",
       "\n",
       "                                                                                                                                                                                                                                                                                 preprocessed_tweet  \\\n",
       "0  if pfizer believes we need a booster shot we need it who knows their product better following the guidance of cdcgov is how i wound up w covid19 and having to shut down my k2 classroom for an entire week i will do whatever it takes to protect my students friends amp family                  \n",
       "1  covid19 vaccine the country is a mess the government ia a shambles the vaccination may or may not work our borders are still open and still nobody takes it anywhere serious enough                                                                                                                \n",
       "2  nihs fauci proceeding as if we will need to deploy a vaccine takes months to prove efficacy wuhan coronavirus cdc anthonymace                                                                                                                                                                      \n",
       "3  nightmareholic eretserus elonmusk human herd immunity is the only effective vaccine its the only way this virus goes away for good you can only create a vaccine for one strain of this thing at a time id also love to see any evidence of any vaccine working against any previous coronavirus   \n",
       "4  it is still unclear when a covid19 vaccine would be approved for use or be distributed banner health will independently validate the safety and efficacy of the vaccine before it is administered 2125                                                                                             \n",
       "\n",
       "   label  \n",
       "0  1      \n",
       "1  1      \n",
       "2  1      \n",
       "3  1      \n",
       "4  1      "
      ]
     },
     "execution_count": 3,
     "metadata": {},
     "output_type": "execute_result"
    }
   ],
   "source": [
    "data.head()"
   ]
  },
  {
   "cell_type": "code",
   "execution_count": 4,
   "metadata": {},
   "outputs": [
    {
     "data": {
      "text/plain": [
       "1    12197\n",
       "0    1495 \n",
       "Name: label, dtype: int64"
      ]
     },
     "execution_count": 4,
     "metadata": {},
     "output_type": "execute_result"
    }
   ],
   "source": [
    "data['label'].value_counts()"
   ]
  },
  {
   "cell_type": "code",
   "execution_count": 5,
   "metadata": {},
   "outputs": [],
   "source": [
    "data.to_csv(\"final_dataset.tsv\", sep=\"\\t\", index=False)"
   ]
  },
  {
   "cell_type": "code",
   "execution_count": null,
   "metadata": {},
   "outputs": [],
   "source": []
  }
 ],
 "metadata": {
  "kernelspec": {
   "display_name": "Python 3.10.4 64-bit",
   "language": "python",
   "name": "python3"
  },
  "language_info": {
   "codemirror_mode": {
    "name": "ipython",
    "version": 3
   },
   "file_extension": ".py",
   "mimetype": "text/x-python",
   "name": "python",
   "nbconvert_exporter": "python",
   "pygments_lexer": "ipython3",
   "version": "3.10.4"
  },
  "orig_nbformat": 4,
  "vscode": {
   "interpreter": {
    "hash": "ea928f5d67c4c93314bde902f9925b00b35f33a7a7fd46f2f8b2a0108e4de065"
   }
  }
 },
 "nbformat": 4,
 "nbformat_minor": 2
}
